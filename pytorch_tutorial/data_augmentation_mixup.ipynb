{
 "cells": [
  {
   "attachments": {},
   "cell_type": "markdown",
   "metadata": {},
   "source": [
    "MixUp"
   ]
  },
  {
   "cell_type": "code",
   "execution_count": null,
   "metadata": {},
   "outputs": [],
   "source": [
    "# import libraries\n",
    "from PIL import Image\n",
    "import os\n",
    "from random import randint\n",
    "import numpy as np\n",
    "import matplotlib.pyplot as plt"
   ]
  },
  {
   "cell_type": "code",
   "execution_count": null,
   "metadata": {},
   "outputs": [],
   "source": [
    "# Get the path to the PIL.Image library's directory\n",
    "image_path = os.path.dirname(os.path.abspath(Image.__file__))\n"
   ]
  },
  {
   "cell_type": "code",
   "execution_count": null,
   "metadata": {},
   "outputs": [],
   "source": [
    "# Iterate over all the directories inside the PIL.Image library's directory\n",
    "for dirpath, dirnames, filenames in os.walk(image_path):\n",
    "    print(f\"Contents of directory {dirpath}:\")\n",
    "    for filename in filenames:\n",
    "        print(f\"\\t{filename}\")"
   ]
  },
  {
   "cell_type": "code",
   "execution_count": null,
   "metadata": {},
   "outputs": [],
   "source": [
    "# open each image from the 'Image' library\n",
    "img_folder = 'images/'\n",
    "imgs = os.listdir(img_folder)\n",
    "\n",
    "# set batch size to 10 ie open only 10 images at a time\n",
    "# creat batch_x, a list of 10 images of 224x224 px\n",
    "batch_x = [Image.open(img_folder + p).resize((224,224)) for p in imgs[0:10]]"
   ]
  },
  {
   "cell_type": "code",
   "execution_count": null,
   "metadata": {},
   "outputs": [],
   "source": [
    "def normalize_image(x):\n",
    "    # change scale of image from 0-255 px to 0-1 px\n",
    "    x = x / np.max(x)   # U can do so by dividing it with the max ie 255\n",
    "    mean = np.array([0.485, 0.456, 0.406])\n",
    "    std = np.array([0.229, 0.224, 0.225])\n",
    "    return (x - mean) / std"
   ]
  },
  {
   "cell_type": "code",
   "execution_count": null,
   "metadata": {},
   "outputs": [],
   "source": [
    "def denormalize_image(x):       # opposite of normalization\n",
    "    mean = np.array([0.485, 0.456, 0.406])\n",
    "    std = np.array([0.229, 0.224, 0.225])\n",
    "    x = std * x + mean\n",
    "    x = np.clip(x, 0, 1)\n",
    "    return x"
   ]
  },
  {
   "cell_type": "code",
   "execution_count": null,
   "metadata": {},
   "outputs": [],
   "source": [
    "lam = 0.70\n",
    "batch_size = len(batch_x)\n",
    "# normalise the currImage\n",
    "current_image = normalize_image(np.array(batch_x[0]))   # taking 1st img as currImg\n",
    "# get random index\n",
    "random_index = randint(0, batch_size - 1)\n",
    "random_image_from_batch = normalize_image(np.array(batch_x[random_index]))   # taking 1st img as currImg"
   ]
  },
  {
   "cell_type": "code",
   "execution_count": null,
   "metadata": {},
   "outputs": [],
   "source": [
    "# display current image\n",
    "plt.imshow(denormalize_image(current_image))\n",
    "plt.axis(\"off\")"
   ]
  },
  {
   "cell_type": "code",
   "execution_count": null,
   "metadata": {},
   "outputs": [],
   "source": [
    "# display random image\n",
    "plt.imshow(denormalize_image(random_image_from_batch))\n",
    "plt.axis(\"off\")"
   ]
  },
  {
   "cell_type": "code",
   "execution_count": null,
   "metadata": {},
   "outputs": [],
   "source": [
    "mixed_image = lam * current_image + (1 - lam) * random_image_from_batch"
   ]
  },
  {
   "cell_type": "code",
   "execution_count": null,
   "metadata": {},
   "outputs": [],
   "source": [
    "# display mixed image\n",
    "plt.imshow(denormalize_image(mixed_image))\n",
    "plt.axis(\"off\")"
   ]
  },
  {
   "attachments": {},
   "cell_type": "markdown",
   "metadata": {},
   "source": [
    "Loss = lambda * XE(pred, y_a) + (1-lambda) * XE(pred, y_b) \n",
    "(Use Cross entropy Loss)"
   ]
  },
  {
   "cell_type": "code",
   "execution_count": null,
   "metadata": {},
   "outputs": [],
   "source": [
    "# Loss\n",
    "def mixup_data(x, y, alpha=1.0, use_cuda=True):\n",
    "    if alpha > 0:\n",
    "        lam = np.random.beta(alpha, alpha)\n",
    "    else:\n",
    "        \n"
   ]
  },
  {
   "cell_type": "code",
   "execution_count": null,
   "metadata": {},
   "outputs": [],
   "source": []
  }
 ],
 "metadata": {
  "kernelspec": {
   "display_name": "Python 3",
   "language": "python",
   "name": "python3"
  },
  "language_info": {
   "codemirror_mode": {
    "name": "ipython",
    "version": 3
   },
   "file_extension": ".py",
   "mimetype": "text/x-python",
   "name": "python",
   "nbconvert_exporter": "python",
   "pygments_lexer": "ipython3",
   "version": "3.10.6"
  },
  "orig_nbformat": 4
 },
 "nbformat": 4,
 "nbformat_minor": 2
}
