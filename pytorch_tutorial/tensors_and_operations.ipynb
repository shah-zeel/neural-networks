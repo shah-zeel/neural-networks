{
 "cells": [
  {
   "cell_type": "code",
   "execution_count": null,
   "metadata": {},
   "outputs": [],
   "source": [
    "import torch"
   ]
  },
  {
   "attachments": {},
   "cell_type": "markdown",
   "metadata": {},
   "source": [
    "Torch Tensors"
   ]
  },
  {
   "cell_type": "code",
   "execution_count": null,
   "metadata": {},
   "outputs": [],
   "source": [
    "# 1-D Tensor\n",
    "a = torch.tensor([2,2,1])\n",
    "print(a)"
   ]
  },
  {
   "cell_type": "code",
   "execution_count": null,
   "metadata": {},
   "outputs": [],
   "source": [
    "# 12-D Tensor\n",
    "b = torch.tensor([[2,2,1],[3,4,5],[2,8,9],[1,7,2]])\n",
    "print(b)"
   ]
  },
  {
   "cell_type": "code",
   "execution_count": null,
   "metadata": {},
   "outputs": [],
   "source": [
    "# size and shape\n",
    "print(a.shape)\n",
    "print(b.shape)\n",
    "print(a.size())\n",
    "print(b.size())\n",
    "# shape is attribute and size is a method"
   ]
  },
  {
   "cell_type": "code",
   "execution_count": null,
   "metadata": {},
   "outputs": [],
   "source": [
    "# get height / number of rows\n",
    "print(b.shape[0])"
   ]
  },
  {
   "cell_type": "code",
   "execution_count": null,
   "metadata": {},
   "outputs": [],
   "source": [
    "# float tensor\n",
    "c = torch.FloatTensor([[2,2,1],[3,4,5],[2,8,9],[1,7,2]])\n",
    "print(c)\n",
    "print(c.dtype)\n",
    "# or we can also write c = torch.tensor([[2,2,1],[3,4,5],[2,8,9],[1,7,2]], dtype = torch.float)"
   ]
  },
  {
   "cell_type": "code",
   "execution_count": null,
   "metadata": {},
   "outputs": [],
   "source": [
    "# double tensor\n",
    "d = torch.DoubleTensor([[2,2,1],[3,4,5],[2,8,9],[1,7,2]])\n",
    "print(d)\n",
    "print(d.dtype)\n",
    "# or we can also write c = torch.tensor([[2,2,1],[3,4,5],[2,8,9],[1,7,2]], dtype = torch.double)\n",
    "# double is just higer precision float"
   ]
  },
  {
   "cell_type": "code",
   "execution_count": null,
   "metadata": {},
   "outputs": [],
   "source": [
    "# mean\n",
    "print(c.mean())\n",
    "print(d.mean())"
   ]
  },
  {
   "cell_type": "code",
   "execution_count": null,
   "metadata": {},
   "outputs": [],
   "source": [
    "# standard deviation\n",
    "print(c.std())\n",
    "print(d.std())"
   ]
  },
  {
   "cell_type": "code",
   "execution_count": null,
   "metadata": {},
   "outputs": [],
   "source": [
    "# Reshape b\n",
    "# Note: if one of the dimensions is -1, its size can be inferred\n",
    "\n",
    "# view is used to reshape\n",
    "print(b.view(-1,1)) # metion no. of columns, no. of rows not needed\n",
    "print(b.view(12))   # 1-D array\n",
    "print(b.view(-1,4))  \n",
    "print(b.view(2,6)) \n",
    "\n",
    "# Assign b a new shape\n",
    "b = b.view(1, -1)\n",
    "print(b)\n",
    "print(b.shape)\n"
   ]
  },
  {
   "cell_type": "code",
   "execution_count": null,
   "metadata": {},
   "outputs": [],
   "source": [
    "# Create a 3D tensor with 2 channels, 3 rows and 4 columns (channels, rows, columns)\n",
    "three_dim = torch.randn(2,3,4)\n",
    "print('\\n')\n",
    "print(three_dim)\n",
    "print(three_dim.view(2,12))\n",
    "print(three_dim.view(2,-1))"
   ]
  },
  {
   "cell_type": "code",
   "execution_count": null,
   "metadata": {},
   "outputs": [],
   "source": [
    "# Create a matrix with random numbers between 0 and 1\n",
    "r = torch.rand(4,4)\n",
    "print(r)"
   ]
  },
  {
   "cell_type": "code",
   "execution_count": null,
   "metadata": {},
   "outputs": [],
   "source": [
    "# Create a matrix with random numbers taken from a normal distribution with mean 0 and variance 1\n",
    "r2 = torch.randn(4,4)   # n stands for normal distribution\n",
    "print(r2)\n",
    "print(r2.dtype)"
   ]
  },
  {
   "cell_type": "code",
   "execution_count": null,
   "metadata": {},
   "outputs": [],
   "source": [
    "# Create an array of 5 random integers from values between 6 and 9 (exclusive of 10)\n",
    "in_array = torch.randint(6,10,(5,))   # int stands for integers\n",
    "print(in_array)\n",
    "print(in_array.dtype)"
   ]
  },
  {
   "cell_type": "code",
   "execution_count": null,
   "metadata": {},
   "outputs": [],
   "source": [
    "# Create an 2-D array of size 3x3 from values between 6 and 9 (exclusive of 10)\n",
    "in_array2 = torch.randint(6,10,(3,3))   # int stands for integers\n",
    "print(in_array2)\n",
    "print(in_array2.dtype)"
   ]
  },
  {
   "cell_type": "code",
   "execution_count": null,
   "metadata": {},
   "outputs": [],
   "source": [
    "# Get number of elements in an array\n",
    "print(torch.numel(in_array))\n",
    "print(torch.numel(in_array2))"
   ]
  },
  {
   "cell_type": "code",
   "execution_count": null,
   "metadata": {},
   "outputs": [],
   "source": [
    "# Create a 3x3 matrx of zeros and dtype=long\n",
    "z = torch.zeros(3,3, dtype=torch.long) \n",
    "print(z)\n",
    "print(z.dtype)\n",
    "\n",
    "# Create a 3x3 matrx of zeros and dtype=long\n",
    "o = torch.ones(3,3) \n",
    "print(o)\n",
    "print(o.dtype)"
   ]
  },
  {
   "cell_type": "code",
   "execution_count": null,
   "metadata": {},
   "outputs": [],
   "source": [
    "r2_like = torch.randn_like(r2, dtype = torch.double)\n",
    "print(r2_like)"
   ]
  },
  {
   "cell_type": "code",
   "execution_count": null,
   "metadata": {},
   "outputs": [],
   "source": [
    "# Add two tensors of same size amd datatype\n",
    "add = torch.add(r,r2)\n",
    "print(add)"
   ]
  },
  {
   "cell_type": "code",
   "execution_count": null,
   "metadata": {},
   "outputs": [],
   "source": [
    "# In-place addition (change value of r2)\n",
    "r2.add_(r)\n",
    "print(r2)"
   ]
  },
  {
   "cell_type": "code",
   "execution_count": null,
   "metadata": {},
   "outputs": [],
   "source": [
    "# Matrix Slicing\n",
    "print(r2[:,1])      #All rows and 1st col\n",
    "print(r2[:,:2])     #All rows and cols from 0th till 2nd\n",
    "print(r2[:2,:])     #All cols and rows from 0th till 2nd\n",
    "print(r2[:3,:])     #All cols and rows from 0th till 3rd"
   ]
  },
  {
   "cell_type": "code",
   "execution_count": null,
   "metadata": {},
   "outputs": [],
   "source": [
    "# Extracting numbers\n",
    "num_ten = r2[2,3]\n",
    "print(num_ten)\n",
    "print(num_ten.item())"
   ]
  },
  {
   "attachments": {},
   "cell_type": "markdown",
   "metadata": {},
   "source": [
    "NumPy Bridge"
   ]
  },
  {
   "cell_type": "code",
   "execution_count": null,
   "metadata": {},
   "outputs": [],
   "source": [
    "import numpy as np"
   ]
  },
  {
   "cell_type": "code",
   "execution_count": null,
   "metadata": {},
   "outputs": [],
   "source": [
    "# Convert a torch tensor to Numpy array\n",
    "a = torch.ones(5)\n",
    "print(a)\n",
    "b = a.numpy()\n",
    "print(b)\n",
    "\n",
    "# Note: the value of b is dependent on a\n",
    "a.add_(1)\n",
    "print(a)\n",
    "print(b)"
   ]
  },
  {
   "cell_type": "code",
   "execution_count": null,
   "metadata": {},
   "outputs": [],
   "source": [
    "# Convert a Numpy array to torch tensor\n",
    "a = np.ones(5)\n",
    "print(a)\n",
    "b = torch.from_numpy(a)\n",
    "print(b)\n",
    "\n",
    "# Note: the value of b is dependent on a\n",
    "np.add(a, 1, out =a)\n",
    "print(a)\n",
    "print(b)"
   ]
  },
  {
   "cell_type": "code",
   "execution_count": null,
   "metadata": {},
   "outputs": [],
   "source": [
    "# Move tensor to GPU\n",
    "r2 = r2.cuda()\n",
    "print(r2)"
   ]
  },
  {
   "cell_type": "code",
   "execution_count": null,
   "metadata": {},
   "outputs": [],
   "source": [
    "# Switching between CPU and GPU\n",
    "CUDA = torch.cuda.is_available()\n",
    "print(CUDA)\n",
    "\n",
    "if CUDA:\n",
    "    add = add.cuda()\n",
    "    print(add)"
   ]
  },
  {
   "cell_type": "code",
   "execution_count": null,
   "metadata": {},
   "outputs": [],
   "source": [
    "# list to tensor\n",
    "a = [2,3,4,5]\n",
    "print(a)\n",
    "to_list = torch.tensor(a)\n",
    "print(to_list, to_list.dtype)"
   ]
  },
  {
   "cell_type": "code",
   "execution_count": null,
   "metadata": {},
   "outputs": [],
   "source": [
    "data = [[1.,2.],[3.,4.],\n",
    "        [5.,6.],[7.,8.]]\n",
    "T = torch.tensor(data)\n",
    "print(T, T.dtype)"
   ]
  },
  {
   "attachments": {},
   "cell_type": "markdown",
   "metadata": {},
   "source": [
    "Tensor Concatenation"
   ]
  },
  {
   "cell_type": "code",
   "execution_count": null,
   "metadata": {},
   "outputs": [],
   "source": [
    "#Tensor Concatenation\n",
    "first_1 = torch.randn(2,5)\n",
    "print(first_1)\n",
    "second_1 = torch.randn(3,5)\n",
    "print(second_1)\n",
    "print('\\n')\n",
    "\n",
    "# alnog 0 dimension (rows)\n",
    "con_1 = torch.cat([first_1,second_1])\n",
    "print(con_1)\n",
    "print('\\n')\n",
    "print('\\n')\n",
    "\n",
    "first_2 = torch.randn(2,3)\n",
    "print(first_2)\n",
    "second_2 = torch.randn(2,5)\n",
    "print(second_2)\n",
    "print('\\n')\n",
    "\n",
    "# alnog 1 dimension (rows)\n",
    "con_2 = torch.cat([first_2,second_2], 1)\n",
    "print(con_2)"
   ]
  },
  {
   "attachments": {},
   "cell_type": "markdown",
   "metadata": {},
   "source": [
    "Adding Dimensions to Tensor"
   ]
  },
  {
   "cell_type": "code",
   "execution_count": null,
   "metadata": {},
   "outputs": [],
   "source": [
    "#Adds a dimension of 1 along a specified index\n",
    "tensor_1 = torch.tensor([1, 2, 3, 4])\n",
    "tensor_a = torch.unsqueeze(tensor_1, 0)\n",
    "print(tensor_a)\n",
    "print(tensor_a.shape)\n",
    "tensor_b = torch.unsqueeze(tensor_1,1)\n",
    "print(tensor_b)\n",
    "print(tensor_b.shape)\n",
    "print('\\n')\n",
    "tensor_2 = torch.rand(2,3,4)\n",
    "print(tensor_2)\n",
    "print('\\n')\n",
    "tensor_c = tensor_2[:,:,2]\n",
    "print(tensor_c)\n",
    "print(tensor_c.shape)\n",
    "print('\\n')\n",
    "tensor_d = torch.unsqueeze(tensor_c,2)\n",
    "print(tensor_d)\n",
    "print(tensor_d.shape)"
   ]
  },
  {
   "cell_type": "code",
   "execution_count": null,
   "metadata": {},
   "outputs": [],
   "source": []
  },
  {
   "cell_type": "code",
   "execution_count": null,
   "metadata": {},
   "outputs": [],
   "source": []
  },
  {
   "cell_type": "code",
   "execution_count": null,
   "metadata": {},
   "outputs": [],
   "source": []
  },
  {
   "cell_type": "code",
   "execution_count": null,
   "metadata": {},
   "outputs": [],
   "source": []
  },
  {
   "cell_type": "code",
   "execution_count": null,
   "metadata": {},
   "outputs": [],
   "source": []
  }
 ],
 "metadata": {
  "kernelspec": {
   "display_name": "Python 3",
   "language": "python",
   "name": "python3"
  },
  "language_info": {
   "codemirror_mode": {
    "name": "ipython",
    "version": 3
   },
   "file_extension": ".py",
   "mimetype": "text/x-python",
   "name": "python",
   "nbconvert_exporter": "python",
   "pygments_lexer": "ipython3",
   "version": "3.10.6"
  },
  "orig_nbformat": 4,
  "vscode": {
   "interpreter": {
    "hash": "916dbcbb3f70747c44a77c7bcd40155683ae19c65e1c03b4aa3499c5328201f1"
   }
  }
 },
 "nbformat": 4,
 "nbformat_minor": 2
}
