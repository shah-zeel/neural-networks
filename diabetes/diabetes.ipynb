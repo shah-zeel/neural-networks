{
 "cells": [
  {
   "cell_type": "code",
   "execution_count": 1,
   "metadata": {},
   "outputs": [],
   "source": [
    "# import libraries\n",
    "import numpy as np\n",
    "import torch\n",
    "import torch.nn as nn\n",
    "import pandas as pd\n",
    "from sklearn.preprocessing import StandardScaler\n",
    "from torch.utils.data import Dataset\n",
    "from torch.utils.data import DataLoader"
   ]
  },
  {
   "cell_type": "code",
   "execution_count": 2,
   "metadata": {},
   "outputs": [],
   "source": [
    "# Load the dataset using Pandas\n",
    "data = pd.read_csv('diabetes.csv')"
   ]
  },
  {
   "attachments": {},
   "cell_type": "markdown",
   "metadata": {},
   "source": [
    "Preprocess Data"
   ]
  },
  {
   "cell_type": "code",
   "execution_count": 3,
   "metadata": {},
   "outputs": [],
   "source": [
    "# Preprocess data\n",
    "# For x: Extract out the dataset for input (all cols except the last)\n",
    "# For y: Extract out the dataset for output (last col)\n",
    "# Convert x & y to numpy usind .values\n",
    "\n",
    "x = data.iloc[:, 0:-1].values   # 'ilock' > use array indexing in np\n",
    "y_string = list(data.iloc[:, -1])"
   ]
  },
  {
   "cell_type": "code",
   "execution_count": 4,
   "metadata": {},
   "outputs": [],
   "source": [
    "# convert the y data into values\n",
    "y_int = []\n",
    "for element in y_string:\n",
    "    if element == \"positive\":\n",
    "        y_int.append(1)\n",
    "    else:\n",
    "        y_int.append(0)       "
   ]
  },
  {
   "cell_type": "code",
   "execution_count": 5,
   "metadata": {},
   "outputs": [],
   "source": [
    "#convert list to np array\n",
    "y = np.array(y_int, dtype='float64')    # float bez x is of float type"
   ]
  },
  {
   "attachments": {},
   "cell_type": "markdown",
   "metadata": {},
   "source": [
    "Normalization"
   ]
  },
  {
   "cell_type": "code",
   "execution_count": 6,
   "metadata": {},
   "outputs": [],
   "source": [
    "# Feature Normalisation in range (-1,1) using StandardScaler\n",
    "sc = StandardScaler()\n",
    "x = sc.fit_transform(x)"
   ]
  },
  {
   "cell_type": "code",
   "execution_count": 7,
   "metadata": {},
   "outputs": [],
   "source": [
    "# Convert Arrays to Tensors\n",
    "x = torch.tensor(x)\n",
    "y = torch.tensor(y).unsqueeze(1)\n",
    "# unsquesed to add a dimension"
   ]
  },
  {
   "attachments": {},
   "cell_type": "markdown",
   "metadata": {},
   "source": [
    "Creating and Loading Dataset"
   ]
  },
  {
   "cell_type": "code",
   "execution_count": 8,
   "metadata": {},
   "outputs": [],
   "source": [
    "# create class dataset\n",
    "class Dataset(Dataset):\n",
    "    def __init__(self, x, y):\n",
    "        self.x = x\n",
    "        self.y = y\n",
    "    \n",
    "    def __getitem__(self, index):\n",
    "        return self.x[index], self.y[index]\n",
    "    \n",
    "    def __len__(self):\n",
    "        return len(self.x)\n",
    "# self is used to refrence to Dataset"
   ]
  },
  {
   "cell_type": "code",
   "execution_count": 9,
   "metadata": {},
   "outputs": [],
   "source": [
    "dataset = Dataset(x,y)"
   ]
  },
  {
   "cell_type": "code",
   "execution_count": 10,
   "metadata": {},
   "outputs": [],
   "source": [
    "# Load data to database for batch processing and shifting\n",
    "train_loader = DataLoader(dataset = dataset,\n",
    "           batch_size = 32,\n",
    "           shuffle = True)"
   ]
  },
  {
   "attachments": {},
   "cell_type": "markdown",
   "metadata": {},
   "source": [
    "Building the Neural Network"
   ]
  },
  {
   "cell_type": "code",
   "execution_count": 11,
   "metadata": {},
   "outputs": [],
   "source": [
    "class Model(nn.Module):         #inherit from nn.Module\n",
    "    # Initalisation function\n",
    "    def __init__(self, input_feature, output_features):\n",
    "        super(Model, self).__init__()\n",
    "        # define the layers, ie the attributes\n",
    "        self.fc1 = nn.Linear(input_feature, 5)        # fc > fully connected layer, MLB or linear layer\n",
    "        self.fc2 = nn.Linear(5, 4)        \n",
    "        self.fc3 = nn.Linear(4, 3)        \n",
    "        self.fc4 = nn.Linear(3, output_features) \n",
    "        # define the activation functions, ie the functionallites  \n",
    "        self.sigmoid = nn.Sigmoid()\n",
    "        self.tanh = nn.Tanh()\n",
    "\n",
    "        # Every function needs to have attributes (layers of NN) and functionalities (froward & back propogation function)\n",
    "\n",
    "    # Froward Propogation Function\n",
    "    def forward(self, x):\n",
    "        # passing the data through NN\n",
    "        out = self.fc1(x)       # pass throug layer\n",
    "        out = self.tanh(out)    #pass through activation function\n",
    "        out = self.fc2(out)\n",
    "        out = self.tanh(out)\n",
    "        out = self.fc3(out)\n",
    "        out = self.tanh(out)\n",
    "        out = self.fc4(out)\n",
    "        out = self.sigmoid(out)\n",
    "        return out\n",
    "\n",
    "# Defining back proppogation method is not required as pytorch would do it\n"
   ]
  },
  {
   "cell_type": "code",
   "execution_count": 12,
   "metadata": {},
   "outputs": [],
   "source": [
    "# Create the network (an object of the Net class)\n",
    "net = Model(7, 1)\n",
    "# No. of input feature/layer is 7 &  No. of output feature/layer is 1"
   ]
  },
  {
   "cell_type": "code",
   "execution_count": 13,
   "metadata": {},
   "outputs": [
    {
     "name": "stderr",
     "output_type": "stream",
     "text": [
      "/home/zeelshah/.local/lib/python3.10/site-packages/torch/nn/_reduction.py:42: UserWarning: size_average and reduce args will be deprecated, please use reduction='mean' instead.\n",
      "  warnings.warn(warning.format(ret))\n"
     ]
    }
   ],
   "source": [
    "# Define Loss function ie BCE (BCE bez the output needs to be 0 or 1)\n",
    "criterion = nn.BCELoss(size_average= True)      #size_average=True > Losses are averaged over observations for each minibatch & get one value for loss"
   ]
  },
  {
   "cell_type": "code",
   "execution_count": 14,
   "metadata": {},
   "outputs": [],
   "source": [
    "# Define Optimisation function ie SGD with momentum with learning rate of 0.1\n",
    "optimizer = torch.optim.SGD(net.parameters(), lr = 0.1, momentum = 0.9)       # parameters is the attributes/ weights for each layer"
   ]
  },
  {
   "attachments": {},
   "cell_type": "markdown",
   "metadata": {},
   "source": [
    "Training the Network"
   ]
  },
  {
   "cell_type": "code",
   "execution_count": 16,
   "metadata": {},
   "outputs": [
    {
     "name": "stdout",
     "output_type": "stream",
     "text": [
      "Epoch 1/200, Loss: 0.618, Accuracy: 0.688\n",
      "Epoch 2/200, Loss: 0.566, Accuracy: 0.594\n",
      "Epoch 3/200, Loss: 0.429, Accuracy: 0.781\n",
      "Epoch 4/200, Loss: 0.405, Accuracy: 0.844\n",
      "Epoch 5/200, Loss: 0.433, Accuracy: 0.781\n",
      "Epoch 6/200, Loss: 0.462, Accuracy: 0.875\n",
      "Epoch 7/200, Loss: 0.483, Accuracy: 0.750\n",
      "Epoch 8/200, Loss: 0.376, Accuracy: 0.781\n",
      "Epoch 9/200, Loss: 0.511, Accuracy: 0.750\n",
      "Epoch 10/200, Loss: 0.427, Accuracy: 0.844\n",
      "Epoch 11/200, Loss: 0.625, Accuracy: 0.688\n",
      "Epoch 12/200, Loss: 0.408, Accuracy: 0.812\n",
      "Epoch 13/200, Loss: 0.540, Accuracy: 0.719\n",
      "Epoch 14/200, Loss: 0.604, Accuracy: 0.688\n",
      "Epoch 15/200, Loss: 0.399, Accuracy: 0.844\n",
      "Epoch 16/200, Loss: 0.577, Accuracy: 0.625\n",
      "Epoch 17/200, Loss: 0.413, Accuracy: 0.781\n",
      "Epoch 18/200, Loss: 0.542, Accuracy: 0.750\n",
      "Epoch 19/200, Loss: 0.473, Accuracy: 0.812\n",
      "Epoch 20/200, Loss: 0.493, Accuracy: 0.781\n",
      "Epoch 21/200, Loss: 0.611, Accuracy: 0.688\n",
      "Epoch 22/200, Loss: 0.504, Accuracy: 0.750\n",
      "Epoch 23/200, Loss: 0.519, Accuracy: 0.719\n",
      "Epoch 24/200, Loss: 0.480, Accuracy: 0.719\n",
      "Epoch 25/200, Loss: 0.520, Accuracy: 0.750\n",
      "Epoch 26/200, Loss: 0.546, Accuracy: 0.750\n",
      "Epoch 27/200, Loss: 0.394, Accuracy: 0.781\n",
      "Epoch 28/200, Loss: 0.467, Accuracy: 0.750\n",
      "Epoch 29/200, Loss: 0.479, Accuracy: 0.719\n",
      "Epoch 30/200, Loss: 0.525, Accuracy: 0.781\n",
      "Epoch 31/200, Loss: 0.441, Accuracy: 0.812\n",
      "Epoch 32/200, Loss: 0.369, Accuracy: 0.781\n",
      "Epoch 33/200, Loss: 0.547, Accuracy: 0.750\n",
      "Epoch 34/200, Loss: 0.373, Accuracy: 0.875\n",
      "Epoch 35/200, Loss: 0.282, Accuracy: 0.906\n",
      "Epoch 36/200, Loss: 0.347, Accuracy: 0.844\n",
      "Epoch 37/200, Loss: 0.391, Accuracy: 0.844\n",
      "Epoch 38/200, Loss: 0.298, Accuracy: 0.875\n",
      "Epoch 39/200, Loss: 0.407, Accuracy: 0.781\n",
      "Epoch 40/200, Loss: 0.397, Accuracy: 0.875\n",
      "Epoch 41/200, Loss: 0.404, Accuracy: 0.844\n",
      "Epoch 42/200, Loss: 0.519, Accuracy: 0.688\n",
      "Epoch 43/200, Loss: 0.365, Accuracy: 0.875\n",
      "Epoch 44/200, Loss: 0.364, Accuracy: 0.844\n",
      "Epoch 45/200, Loss: 0.796, Accuracy: 0.719\n",
      "Epoch 46/200, Loss: 0.266, Accuracy: 0.906\n",
      "Epoch 47/200, Loss: 0.388, Accuracy: 0.844\n",
      "Epoch 48/200, Loss: 0.451, Accuracy: 0.781\n",
      "Epoch 49/200, Loss: 0.246, Accuracy: 0.938\n",
      "Epoch 50/200, Loss: 0.351, Accuracy: 0.781\n",
      "Epoch 51/200, Loss: 0.526, Accuracy: 0.781\n",
      "Epoch 52/200, Loss: 0.620, Accuracy: 0.719\n",
      "Epoch 53/200, Loss: 0.496, Accuracy: 0.719\n",
      "Epoch 54/200, Loss: 0.421, Accuracy: 0.844\n",
      "Epoch 55/200, Loss: 0.492, Accuracy: 0.781\n",
      "Epoch 56/200, Loss: 0.303, Accuracy: 0.906\n",
      "Epoch 57/200, Loss: 0.420, Accuracy: 0.781\n",
      "Epoch 58/200, Loss: 0.315, Accuracy: 0.938\n",
      "Epoch 59/200, Loss: 0.464, Accuracy: 0.844\n",
      "Epoch 60/200, Loss: 0.681, Accuracy: 0.594\n",
      "Epoch 61/200, Loss: 0.376, Accuracy: 0.812\n",
      "Epoch 62/200, Loss: 0.466, Accuracy: 0.719\n",
      "Epoch 63/200, Loss: 0.392, Accuracy: 0.844\n",
      "Epoch 64/200, Loss: 0.597, Accuracy: 0.688\n",
      "Epoch 65/200, Loss: 0.414, Accuracy: 0.812\n",
      "Epoch 66/200, Loss: 0.352, Accuracy: 0.875\n",
      "Epoch 67/200, Loss: 0.723, Accuracy: 0.656\n",
      "Epoch 68/200, Loss: 0.484, Accuracy: 0.812\n",
      "Epoch 69/200, Loss: 0.420, Accuracy: 0.781\n",
      "Epoch 70/200, Loss: 0.402, Accuracy: 0.844\n",
      "Epoch 71/200, Loss: 0.393, Accuracy: 0.844\n",
      "Epoch 72/200, Loss: 0.534, Accuracy: 0.750\n",
      "Epoch 73/200, Loss: 0.870, Accuracy: 0.688\n",
      "Epoch 74/200, Loss: 0.507, Accuracy: 0.719\n",
      "Epoch 75/200, Loss: 0.612, Accuracy: 0.688\n",
      "Epoch 76/200, Loss: 0.308, Accuracy: 0.844\n",
      "Epoch 77/200, Loss: 0.291, Accuracy: 0.875\n",
      "Epoch 78/200, Loss: 0.456, Accuracy: 0.844\n",
      "Epoch 79/200, Loss: 0.251, Accuracy: 0.906\n",
      "Epoch 80/200, Loss: 0.398, Accuracy: 0.844\n",
      "Epoch 81/200, Loss: 0.302, Accuracy: 0.938\n",
      "Epoch 82/200, Loss: 0.517, Accuracy: 0.781\n",
      "Epoch 83/200, Loss: 0.415, Accuracy: 0.875\n",
      "Epoch 84/200, Loss: 0.341, Accuracy: 0.906\n",
      "Epoch 85/200, Loss: 0.550, Accuracy: 0.750\n",
      "Epoch 86/200, Loss: 0.394, Accuracy: 0.750\n",
      "Epoch 87/200, Loss: 0.263, Accuracy: 0.906\n",
      "Epoch 88/200, Loss: 0.422, Accuracy: 0.781\n",
      "Epoch 89/200, Loss: 0.335, Accuracy: 0.875\n",
      "Epoch 90/200, Loss: 0.314, Accuracy: 0.875\n",
      "Epoch 91/200, Loss: 0.695, Accuracy: 0.625\n",
      "Epoch 92/200, Loss: 0.507, Accuracy: 0.781\n",
      "Epoch 93/200, Loss: 0.343, Accuracy: 0.875\n",
      "Epoch 94/200, Loss: 0.480, Accuracy: 0.750\n",
      "Epoch 95/200, Loss: 0.475, Accuracy: 0.812\n",
      "Epoch 96/200, Loss: 0.324, Accuracy: 0.875\n",
      "Epoch 97/200, Loss: 0.475, Accuracy: 0.781\n",
      "Epoch 98/200, Loss: 0.602, Accuracy: 0.812\n",
      "Epoch 99/200, Loss: 0.380, Accuracy: 0.750\n",
      "Epoch 100/200, Loss: 0.414, Accuracy: 0.781\n",
      "Epoch 101/200, Loss: 0.458, Accuracy: 0.750\n",
      "Epoch 102/200, Loss: 0.333, Accuracy: 0.781\n",
      "Epoch 103/200, Loss: 0.488, Accuracy: 0.750\n",
      "Epoch 104/200, Loss: 0.352, Accuracy: 0.875\n",
      "Epoch 105/200, Loss: 0.418, Accuracy: 0.875\n",
      "Epoch 106/200, Loss: 0.725, Accuracy: 0.688\n",
      "Epoch 107/200, Loss: 0.502, Accuracy: 0.812\n",
      "Epoch 108/200, Loss: 0.350, Accuracy: 0.906\n",
      "Epoch 109/200, Loss: 0.354, Accuracy: 0.875\n",
      "Epoch 110/200, Loss: 0.438, Accuracy: 0.812\n",
      "Epoch 111/200, Loss: 0.483, Accuracy: 0.750\n",
      "Epoch 112/200, Loss: 0.383, Accuracy: 0.781\n",
      "Epoch 113/200, Loss: 0.325, Accuracy: 0.875\n",
      "Epoch 114/200, Loss: 0.298, Accuracy: 0.844\n",
      "Epoch 115/200, Loss: 0.642, Accuracy: 0.750\n",
      "Epoch 116/200, Loss: 0.370, Accuracy: 0.750\n",
      "Epoch 117/200, Loss: 0.353, Accuracy: 0.875\n",
      "Epoch 118/200, Loss: 0.717, Accuracy: 0.719\n",
      "Epoch 119/200, Loss: 0.516, Accuracy: 0.812\n",
      "Epoch 120/200, Loss: 0.536, Accuracy: 0.719\n",
      "Epoch 121/200, Loss: 0.435, Accuracy: 0.781\n",
      "Epoch 122/200, Loss: 0.358, Accuracy: 0.875\n",
      "Epoch 123/200, Loss: 0.309, Accuracy: 0.844\n",
      "Epoch 124/200, Loss: 0.514, Accuracy: 0.719\n",
      "Epoch 125/200, Loss: 0.350, Accuracy: 0.875\n",
      "Epoch 126/200, Loss: 0.405, Accuracy: 0.844\n",
      "Epoch 127/200, Loss: 0.447, Accuracy: 0.781\n",
      "Epoch 128/200, Loss: 0.442, Accuracy: 0.781\n",
      "Epoch 129/200, Loss: 0.285, Accuracy: 0.844\n",
      "Epoch 130/200, Loss: 0.350, Accuracy: 0.781\n",
      "Epoch 131/200, Loss: 0.254, Accuracy: 0.906\n",
      "Epoch 132/200, Loss: 0.409, Accuracy: 0.812\n",
      "Epoch 133/200, Loss: 0.391, Accuracy: 0.812\n",
      "Epoch 134/200, Loss: 0.269, Accuracy: 0.906\n",
      "Epoch 135/200, Loss: 0.316, Accuracy: 0.906\n",
      "Epoch 136/200, Loss: 0.710, Accuracy: 0.750\n",
      "Epoch 137/200, Loss: 0.335, Accuracy: 0.844\n",
      "Epoch 138/200, Loss: 0.479, Accuracy: 0.844\n",
      "Epoch 139/200, Loss: 0.389, Accuracy: 0.844\n",
      "Epoch 140/200, Loss: 0.350, Accuracy: 0.844\n",
      "Epoch 141/200, Loss: 0.448, Accuracy: 0.844\n",
      "Epoch 142/200, Loss: 0.350, Accuracy: 0.812\n",
      "Epoch 143/200, Loss: 0.532, Accuracy: 0.781\n",
      "Epoch 144/200, Loss: 0.338, Accuracy: 0.812\n",
      "Epoch 145/200, Loss: 0.397, Accuracy: 0.812\n",
      "Epoch 146/200, Loss: 0.319, Accuracy: 0.844\n",
      "Epoch 147/200, Loss: 0.253, Accuracy: 0.938\n",
      "Epoch 148/200, Loss: 0.517, Accuracy: 0.844\n",
      "Epoch 149/200, Loss: 0.352, Accuracy: 0.844\n",
      "Epoch 150/200, Loss: 0.431, Accuracy: 0.844\n",
      "Epoch 151/200, Loss: 0.523, Accuracy: 0.719\n",
      "Epoch 152/200, Loss: 0.500, Accuracy: 0.719\n",
      "Epoch 153/200, Loss: 0.443, Accuracy: 0.812\n",
      "Epoch 154/200, Loss: 0.289, Accuracy: 0.875\n",
      "Epoch 155/200, Loss: 0.577, Accuracy: 0.719\n",
      "Epoch 156/200, Loss: 0.539, Accuracy: 0.750\n",
      "Epoch 157/200, Loss: 0.268, Accuracy: 0.906\n",
      "Epoch 158/200, Loss: 0.521, Accuracy: 0.719\n",
      "Epoch 159/200, Loss: 0.453, Accuracy: 0.781\n",
      "Epoch 160/200, Loss: 0.314, Accuracy: 0.875\n",
      "Epoch 161/200, Loss: 0.192, Accuracy: 0.938\n",
      "Epoch 162/200, Loss: 0.399, Accuracy: 0.812\n",
      "Epoch 163/200, Loss: 0.449, Accuracy: 0.812\n",
      "Epoch 164/200, Loss: 0.497, Accuracy: 0.750\n",
      "Epoch 165/200, Loss: 0.449, Accuracy: 0.812\n",
      "Epoch 166/200, Loss: 0.467, Accuracy: 0.719\n",
      "Epoch 167/200, Loss: 0.468, Accuracy: 0.812\n",
      "Epoch 168/200, Loss: 0.468, Accuracy: 0.812\n",
      "Epoch 169/200, Loss: 0.345, Accuracy: 0.875\n",
      "Epoch 170/200, Loss: 0.430, Accuracy: 0.844\n",
      "Epoch 171/200, Loss: 0.398, Accuracy: 0.781\n",
      "Epoch 172/200, Loss: 0.268, Accuracy: 0.906\n",
      "Epoch 173/200, Loss: 0.410, Accuracy: 0.875\n",
      "Epoch 174/200, Loss: 0.448, Accuracy: 0.812\n",
      "Epoch 175/200, Loss: 0.369, Accuracy: 0.844\n",
      "Epoch 176/200, Loss: 0.473, Accuracy: 0.750\n",
      "Epoch 177/200, Loss: 0.349, Accuracy: 0.844\n",
      "Epoch 178/200, Loss: 0.411, Accuracy: 0.750\n",
      "Epoch 179/200, Loss: 0.234, Accuracy: 0.906\n",
      "Epoch 180/200, Loss: 0.297, Accuracy: 0.906\n",
      "Epoch 181/200, Loss: 0.486, Accuracy: 0.781\n",
      "Epoch 182/200, Loss: 0.566, Accuracy: 0.656\n",
      "Epoch 183/200, Loss: 0.246, Accuracy: 0.906\n",
      "Epoch 184/200, Loss: 0.292, Accuracy: 0.844\n",
      "Epoch 185/200, Loss: 0.365, Accuracy: 0.844\n",
      "Epoch 186/200, Loss: 0.209, Accuracy: 0.969\n",
      "Epoch 187/200, Loss: 0.363, Accuracy: 0.844\n",
      "Epoch 188/200, Loss: 0.367, Accuracy: 0.844\n",
      "Epoch 189/200, Loss: 0.375, Accuracy: 0.812\n",
      "Epoch 190/200, Loss: 0.374, Accuracy: 0.812\n",
      "Epoch 191/200, Loss: 0.326, Accuracy: 0.938\n",
      "Epoch 192/200, Loss: 0.471, Accuracy: 0.750\n",
      "Epoch 193/200, Loss: 0.190, Accuracy: 0.906\n",
      "Epoch 194/200, Loss: 0.379, Accuracy: 0.875\n",
      "Epoch 195/200, Loss: 0.396, Accuracy: 0.844\n",
      "Epoch 196/200, Loss: 0.471, Accuracy: 0.750\n",
      "Epoch 197/200, Loss: 0.304, Accuracy: 0.906\n",
      "Epoch 198/200, Loss: 0.451, Accuracy: 0.875\n",
      "Epoch 199/200, Loss: 0.396, Accuracy: 0.906\n",
      "Epoch 200/200, Loss: 0.336, Accuracy: 0.875\n"
     ]
    }
   ],
   "source": [
    "# Define Hyper-parameter ie no. of epochs\n",
    "epochs = 200\n",
    "\n",
    "for epoch in range(200):\n",
    "    for (inputs, labels) in train_loader:\n",
    "        inputs = inputs.float()\n",
    "        labels = labels.float()\n",
    "        # Forward prop.\n",
    "        outputs = net(inputs)\n",
    "        # Loss Calculation\n",
    "        loss = criterion(outputs, labels)\n",
    "\n",
    "        # Begin forward propagation\n",
    "        # STEP1 clear gradient buffer (w = w - lr*gradient)\n",
    "        optimizer.zero_grad()\n",
    "        # STEP2 calculate the gradient // backpropagation\n",
    "        loss.backward()\n",
    "        # STEP3 update the weights\n",
    "        optimizer.step()\n",
    "\n",
    "    # Calculate training accuracy\n",
    "    output = (outputs > 0.5).float()\n",
    "\n",
    "    # Calculate average accuracy    (output == labels).sum() / output.shape[0]\n",
    "    accuracy = (output == labels).float().mean()\n",
    "\n",
    "    # Print Statistics\n",
    "    print(\"Epoch {}/{}, Loss: {:.3f}, Accuracy: {:.3f}\".format(epoch+1, epochs, loss, accuracy))"
   ]
  },
  {
   "cell_type": "code",
   "execution_count": null,
   "metadata": {},
   "outputs": [],
   "source": []
  },
  {
   "cell_type": "code",
   "execution_count": null,
   "metadata": {},
   "outputs": [],
   "source": []
  },
  {
   "cell_type": "code",
   "execution_count": null,
   "metadata": {},
   "outputs": [],
   "source": []
  },
  {
   "cell_type": "code",
   "execution_count": null,
   "metadata": {},
   "outputs": [],
   "source": []
  }
 ],
 "metadata": {
  "kernelspec": {
   "display_name": "Python 3",
   "language": "python",
   "name": "python3"
  },
  "language_info": {
   "codemirror_mode": {
    "name": "ipython",
    "version": 3
   },
   "file_extension": ".py",
   "mimetype": "text/x-python",
   "name": "python",
   "nbconvert_exporter": "python",
   "pygments_lexer": "ipython3",
   "version": "3.10.6"
  },
  "orig_nbformat": 4
 },
 "nbformat": 4,
 "nbformat_minor": 2
}
