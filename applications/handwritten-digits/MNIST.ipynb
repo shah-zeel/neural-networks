{
 "cells": [
  {
   "attachments": {},
   "cell_type": "markdown",
   "metadata": {},
   "source": [
    "Importing Libraries and Defining parameters"
   ]
  },
  {
   "cell_type": "code",
   "execution_count": null,
   "metadata": {},
   "outputs": [],
   "source": [
    "import torch\n",
    "import torch.nn as nn\n",
    "import torchvision.datasets as datasets\n",
    "import torchvision.transforms as transformers\n",
    "from torch.autograd import Variable"
   ]
  },
  {
   "cell_type": "code",
   "execution_count": null,
   "metadata": {},
   "outputs": [],
   "source": [
    "input_size = 784        # no. of input neurons (img pixels)\n",
    "hidden_size = 400       # no. of hidden neurons (img pixels)\n",
    "out_size = 10           # no. of classes (0-9)\n",
    "epochs = 10             # no. of times we pass the dataset into the network\n",
    "batch_size = 100        # input size of the data during one iteration\n",
    "learning_rate = 0.001   # how fast we are learning"
   ]
  },
  {
   "cell_type": "code",
   "execution_count": null,
   "metadata": {},
   "outputs": [],
   "source": [
    "train_dataset = datasets.MNIST(root='./data', \n",
    "                               train=True,\n",
    "                               transform=transformers.ToTensor(),\n",
    "                               download=True)\n",
    "test_dataset = datasets.MNIST(root='./data', \n",
    "                               train=False,\n",
    "                               transform=transformers.ToTensor())"
   ]
  },
  {
   "cell_type": "code",
   "execution_count": null,
   "metadata": {},
   "outputs": [],
   "source": [
    "#Make Data iterable by Loading it to a loader\n",
    "# Shuffle the training data to make it independent of the order\n",
    "train_loader = torch.utils.data.DataLoader(dataset=train_dataset,\n",
    "                                           batch_size=batch_size,\n",
    "                                           shuffle=True)\n",
    "train_loader = torch.utils.data.DataLoader(dataset=train_dataset,\n",
    "                                           batch_size=batch_size,\n",
    "                                           shuffle=False)"
   ]
  },
  {
   "attachments": {},
   "cell_type": "markdown",
   "metadata": {},
   "source": [
    "Defining the Neural Class"
   ]
  },
  {
   "cell_type": "code",
   "execution_count": null,
   "metadata": {},
   "outputs": [],
   "source": [
    "class Net(nn.Module):\n",
    "    def __init__(self, input_size, hidden_size, out_size):\n",
    "        super(Net, self).__init__()\n",
    "        # define the layers\n",
    "        self.fc1 = nn.Linear(input_size, hidden_size)       # 1st layer\n",
    "        self.relu = nn.ReLU()                               # 1st layer activation by ReLU\n",
    "        self.fc2 = nn.Linear(hidden_size, hidden_size)      # 2nd layer\n",
    "        self.fc3 = nn.Linear(hidden_size, out_size)         # 3rd layer\n",
    "\n",
    "    def forward(self, x):\n",
    "        # forward propogation\n",
    "        out = self.fc1(x)\n",
    "        out = self.relu(out)\n",
    "        out = self.fc2(out)\n",
    "        out = self.relu(out)\n",
    "        out = self.fc3(out)\n",
    "        return out"
   ]
  },
  {
   "attachments": {},
   "cell_type": "markdown",
   "metadata": {},
   "source": [
    "Create network class and network functions"
   ]
  },
  {
   "cell_type": "code",
   "execution_count": null,
   "metadata": {},
   "outputs": [],
   "source": [
    "# Create an object of the c;ass, which represents our Network\n",
    "net = Net(input_size, hidden_size, out_size)\n",
    "\n",
    "# Check if computer has CUDA\n",
    "CUDA = torch.cuda.is_available()\n",
    "if CUDA:\n",
    "    # If it has it, move the network to cuda\n",
    "    net = net.cuda()\n",
    "# Define Loss function\n",
    "# Cross Entropy Loss also comes along with Softmax. Therefore, no nee to specify Softmax separatly\n",
    "criterion = nn.CrossEntropyLoss()\n",
    "\n",
    "# Define Optimizer\n",
    "optimizer = torch.optim.Adam(net.parameters(), lr=learning_rate)"
   ]
  },
  {
   "attachments": {},
   "cell_type": "markdown",
   "metadata": {},
   "source": [
    "Training the Network"
   ]
  },
  {
   "cell_type": "code",
   "execution_count": null,
   "metadata": {},
   "outputs": [],
   "source": [
    "# Visualise the train loader\n",
    "for i, (images, labels) in enumerate(train_loader):\n",
    "    print(images.size())\n",
    "    images = images.view(-1, 784)       # reshape the tensor\n",
    "    print(images.size())"
   ]
  },
  {
   "cell_type": "code",
   "execution_count": 19,
   "metadata": {},
   "outputs": [
    {
     "name": "stdout",
     "output_type": "stream",
     "text": [
      "Epoch [1/10], Iteration [100/600], Training Loss: 0.0003429545904509723, Training Accuracy: 99.7699966430664%\n",
      "Epoch [1/10], Iteration [200/600], Training Loss: 0.0017192563973367214, Training Accuracy: 99.70500183105469%\n",
      "Epoch [1/10], Iteration [300/600], Training Loss: 0.0015491775702685118, Training Accuracy: 99.6433334350586%\n",
      "Epoch [1/10], Iteration [400/600], Training Loss: 0.003571827430278063, Training Accuracy: 99.63249969482422%\n",
      "Epoch [1/10], Iteration [500/600], Training Loss: 0.06111279875040054, Training Accuracy: 99.5719985961914%\n",
      "Epoch [1/10], Iteration [600/600], Training Loss: 0.03204838186502457, Training Accuracy: 99.55999755859375%\n",
      "Epoch [2/10], Iteration [100/600], Training Loss: 0.0005818292265757918, Training Accuracy: 99.56571197509766%\n",
      "Epoch [2/10], Iteration [200/600], Training Loss: 0.008404502645134926, Training Accuracy: 99.58125305175781%\n",
      "Epoch [2/10], Iteration [300/600], Training Loss: 0.00413149269297719, Training Accuracy: 99.58444213867188%\n",
      "Epoch [2/10], Iteration [400/600], Training Loss: 0.0003748306189663708, Training Accuracy: 99.59200286865234%\n",
      "Epoch [2/10], Iteration [500/600], Training Loss: 0.007493119221180677, Training Accuracy: 99.59727478027344%\n",
      "Epoch [2/10], Iteration [600/600], Training Loss: 0.004435962997376919, Training Accuracy: 99.57666778564453%\n",
      "Epoch [3/10], Iteration [100/600], Training Loss: 0.0007081479416228831, Training Accuracy: 99.58615112304688%\n",
      "Epoch [3/10], Iteration [200/600], Training Loss: 0.00018221914069727063, Training Accuracy: 99.5857162475586%\n",
      "Epoch [3/10], Iteration [300/600], Training Loss: 0.01013423316180706, Training Accuracy: 99.56600189208984%\n",
      "Epoch [3/10], Iteration [400/600], Training Loss: 0.004852417856454849, Training Accuracy: 99.57250213623047%\n",
      "Epoch [3/10], Iteration [500/600], Training Loss: 0.01544119231402874, Training Accuracy: 99.57823181152344%\n",
      "Epoch [3/10], Iteration [600/600], Training Loss: 0.004408743232488632, Training Accuracy: 99.5794448852539%\n",
      "Epoch [4/10], Iteration [100/600], Training Loss: 0.0025242201518267393, Training Accuracy: 99.59210205078125%\n",
      "Epoch [4/10], Iteration [200/600], Training Loss: 0.03542583808302879, Training Accuracy: 99.59449768066406%\n",
      "Epoch [4/10], Iteration [300/600], Training Loss: 0.015848569571971893, Training Accuracy: 99.6009521484375%\n",
      "Epoch [4/10], Iteration [400/600], Training Loss: 0.0037336114328354597, Training Accuracy: 99.6104507446289%\n",
      "Epoch [4/10], Iteration [500/600], Training Loss: 0.0022432412952184677, Training Accuracy: 99.62000274658203%\n",
      "Epoch [4/10], Iteration [600/600], Training Loss: 0.016695966944098473, Training Accuracy: 99.6258316040039%\n",
      "Epoch [5/10], Iteration [100/600], Training Loss: 0.0008397555211558938, Training Accuracy: 99.63240051269531%\n",
      "Epoch [5/10], Iteration [200/600], Training Loss: 0.005692753009498119, Training Accuracy: 99.6376953125%\n",
      "Epoch [5/10], Iteration [300/600], Training Loss: 0.023218486458063126, Training Accuracy: 99.63888549804688%\n",
      "Epoch [5/10], Iteration [400/600], Training Loss: 0.0004254294326528907, Training Accuracy: 99.6385726928711%\n",
      "Epoch [5/10], Iteration [500/600], Training Loss: 0.0023902233224362135, Training Accuracy: 99.6355209350586%\n",
      "Epoch [5/10], Iteration [600/600], Training Loss: 0.002452379558235407, Training Accuracy: 99.63700103759766%\n",
      "Epoch [6/10], Iteration [100/600], Training Loss: 0.0003482461324892938, Training Accuracy: 99.6406478881836%\n",
      "Epoch [6/10], Iteration [200/600], Training Loss: 0.069139763712883, Training Accuracy: 99.63999938964844%\n",
      "Epoch [6/10], Iteration [300/600], Training Loss: 0.0018759939121082425, Training Accuracy: 99.6345443725586%\n",
      "Epoch [6/10], Iteration [400/600], Training Loss: 0.0032170123886317015, Training Accuracy: 99.63911437988281%\n",
      "Epoch [6/10], Iteration [500/600], Training Loss: 0.013262579217553139, Training Accuracy: 99.63571166992188%\n",
      "Epoch [6/10], Iteration [600/600], Training Loss: 0.057570867240428925, Training Accuracy: 99.63444519042969%\n",
      "Epoch [7/10], Iteration [100/600], Training Loss: 0.00012362501001916826, Training Accuracy: 99.63702392578125%\n",
      "Epoch [7/10], Iteration [200/600], Training Loss: 0.04314005374908447, Training Accuracy: 99.64105224609375%\n",
      "Epoch [7/10], Iteration [300/600], Training Loss: 0.005901182070374489, Training Accuracy: 99.6448745727539%\n",
      "Epoch [7/10], Iteration [400/600], Training Loss: 0.027345161885023117, Training Accuracy: 99.64724731445312%\n",
      "Epoch [7/10], Iteration [500/600], Training Loss: 0.004790916573256254, Training Accuracy: 99.6475601196289%\n",
      "Epoch [7/10], Iteration [600/600], Training Loss: 0.027128366753458977, Training Accuracy: 99.64881134033203%\n",
      "Epoch [8/10], Iteration [100/600], Training Loss: 0.006634169723838568, Training Accuracy: 99.65348815917969%\n",
      "Epoch [8/10], Iteration [200/600], Training Loss: 0.0034913006238639355, Training Accuracy: 99.65727233886719%\n",
      "Epoch [8/10], Iteration [300/600], Training Loss: 0.002982086269184947, Training Accuracy: 99.65711212158203%\n",
      "Epoch [8/10], Iteration [400/600], Training Loss: 0.0003459656145423651, Training Accuracy: 99.66043853759766%\n",
      "Epoch [8/10], Iteration [500/600], Training Loss: 0.005139752756804228, Training Accuracy: 99.66191864013672%\n",
      "Epoch [8/10], Iteration [600/600], Training Loss: 0.053250137716531754, Training Accuracy: 99.66374969482422%\n",
      "Epoch [9/10], Iteration [100/600], Training Loss: 0.0008442108519375324, Training Accuracy: 99.66653442382812%\n",
      "Epoch [9/10], Iteration [200/600], Training Loss: 0.00019009258539881557, Training Accuracy: 99.6666030883789%\n",
      "Epoch [9/10], Iteration [300/600], Training Loss: 0.0009047873318195343, Training Accuracy: 99.66999816894531%\n",
      "Epoch [9/10], Iteration [400/600], Training Loss: 8.172020898200572e-05, Training Accuracy: 99.67230987548828%\n",
      "Epoch [9/10], Iteration [500/600], Training Loss: 0.004093596711754799, Training Accuracy: 99.67301940917969%\n",
      "Epoch [9/10], Iteration [600/600], Training Loss: 1.4697861843160354e-05, Training Accuracy: 99.67536926269531%\n",
      "Epoch [10/10], Iteration [100/600], Training Loss: 0.00010502016812097281, Training Accuracy: 99.67781829833984%\n",
      "Epoch [10/10], Iteration [200/600], Training Loss: 0.0015478107379749417, Training Accuracy: 99.6794662475586%\n",
      "Epoch [10/10], Iteration [300/600], Training Loss: 0.010252249427139759, Training Accuracy: 99.68122863769531%\n",
      "Epoch [10/10], Iteration [400/600], Training Loss: 0.007548158057034016, Training Accuracy: 99.67948150634766%\n",
      "Epoch [10/10], Iteration [500/600], Training Loss: 0.0008451684843748808, Training Accuracy: 99.68000030517578%\n",
      "Epoch [10/10], Iteration [600/600], Training Loss: 0.0007322701858356595, Training Accuracy: 99.68116760253906%\n",
      "DONE TRAINING\n"
     ]
    }
   ],
   "source": [
    "# Train the network\n",
    "correct_train = 0\n",
    "total_train = 0\n",
    "for epoch in range(epochs):\n",
    "    for i, (images, labels) in enumerate(train_loader):     # iteration loop that takes a batch of 100 eveytime\n",
    "        # Flatter img from size (100,1,28,28) to (100,784) and wrap it in a variable\n",
    "        # (batch size, grayscale, rows, cols)\n",
    "        images = Variable(images.view(-1, 28*28))\n",
    "        labels = Variable(labels)\n",
    "        if CUDA:\n",
    "            images = images.cuda()\n",
    "            labels = labels.cuda()\n",
    "\n",
    "        # clear gradient\n",
    "        optimizer.zero_grad()\n",
    "        outputs = net(images)       # Forward pass the batch of 100 imgs\n",
    "        _, predicted = torch.max(outputs.data, 1)   # 1st argument: max amount & second argument: index location of each max value\n",
    "        # _, to igore the first argument ie, outputs.data and return only the second argument as in the index\n",
    "        total_train += labels.size(0)\n",
    "        if CUDA:\n",
    "            correct_train += (predicted.cpu() == labels.cpu()).sum()\n",
    "        else:\n",
    "            correct_train += (predicted == labels).sum()\n",
    "\n",
    "        \n",
    "        loss = criterion(outputs, labels)       # loss\n",
    "        loss.backward()                         # back prop\n",
    "        optimizer.step()                        # update weights\n",
    "\n",
    "        if (i+1) % 100 == 0:\n",
    "            print('Epoch [{}/{}], Iteration [{}/{}], Training Loss: {}, Training Accuracy: {}%'.format(epoch+1, epochs, i+1, len(train_dataset)//batch_size, loss.data, (100*correct_train/total_train)))\n",
    "\n",
    "print(\"DONE TRAINING\")\n"
   ]
  },
  {
   "attachments": {},
   "cell_type": "markdown",
   "metadata": {},
   "source": [
    "Testing the Network"
   ]
  },
  {
   "cell_type": "code",
   "execution_count": 20,
   "metadata": {},
   "outputs": [
    {
     "name": "stdout",
     "output_type": "stream",
     "text": [
      "Final Test Accuracy: 99 %\n"
     ]
    }
   ],
   "source": [
    "# In testing, no loss or weight calculation and no updation of weights\n",
    "correct = 0\n",
    "total = 0\n",
    "# no epoch, iterating through all the test images\n",
    "for images, labels in train_loader:\n",
    "    images = Variable(images.view(-1, 28*28))\n",
    "    if CUDA:\n",
    "        images = images.cuda()\n",
    "    # For each input, output will have 10 elements\n",
    "    outputs = net(images)\n",
    "    _, predicted = torch.max(outputs.data, 1)\n",
    "    total += labels.size(0)         # increment the total count\n",
    "    \n",
    "    if CUDA:\n",
    "        correct += (predicted.cpu() == labels.cpu()).sum()\n",
    "    else:\n",
    "        correct += (predicted == labels).sum()\n",
    "\n",
    "print('Final Test Accuracy: %d %%' % (100 * correct / total))\n",
    "        "
   ]
  }
 ],
 "metadata": {
  "kernelspec": {
   "display_name": "Python 3",
   "language": "python",
   "name": "python3"
  },
  "language_info": {
   "codemirror_mode": {
    "name": "ipython",
    "version": 3
   },
   "file_extension": ".py",
   "mimetype": "text/x-python",
   "name": "python",
   "nbconvert_exporter": "python",
   "pygments_lexer": "ipython3",
   "version": "3.10.6"
  },
  "orig_nbformat": 4
 },
 "nbformat": 4,
 "nbformat_minor": 2
}
