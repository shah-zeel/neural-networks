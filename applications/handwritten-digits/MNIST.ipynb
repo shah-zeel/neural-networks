{
 "cells": [
  {
   "attachments": {},
   "cell_type": "markdown",
   "metadata": {},
   "source": [
    "Importing Libraries and Defining parameters"
   ]
  },
  {
   "cell_type": "code",
   "execution_count": null,
   "metadata": {},
   "outputs": [],
   "source": [
    "import torch\n",
    "import torch.nn as nn\n",
    "import torchvision.datasets as datasets\n",
    "import torchvision.transforms as transformers\n",
    "from torch.autograd import Variable"
   ]
  },
  {
   "cell_type": "code",
   "execution_count": null,
   "metadata": {},
   "outputs": [],
   "source": [
    "input_size = 784        # no. of input neurons (img pixels)\n",
    "hidden_size = 400       # no. of hidden neurons (img pixels)\n",
    "out_size = 10           # no. of classes (0-9)\n",
    "epochs = 10             # no. of times we pass the dataset into the network\n",
    "batch_size = 100        # input size of the data during one iteration\n",
    "learning_rate = 0.001   # how fast we are learning"
   ]
  },
  {
   "cell_type": "code",
   "execution_count": null,
   "metadata": {},
   "outputs": [],
   "source": [
    "train_dataset = datasets.MNIST(root='./data', \n",
    "                               train=True,\n",
    "                               transform=transformers.ToTensor(),\n",
    "                               download=True)\n",
    "test_dataset = datasets.MNIST(root='./data', \n",
    "                               train=False,\n",
    "                               transform=transformers.ToTensor())"
   ]
  },
  {
   "cell_type": "code",
   "execution_count": null,
   "metadata": {},
   "outputs": [],
   "source": [
    "#Make Data iterable by Loading it to a loader\n",
    "# Shuffle the training data to make it independent of the order\n",
    "train_loader = torch.utils.data.DataLoader(dataset=train_dataset,\n",
    "                                           batch_size=batch_size,\n",
    "                                           shuffle=True)\n",
    "train_loader = torch.utils.data.DataLoader(dataset=train_dataset,\n",
    "                                           batch_size=batch_size,\n",
    "                                           shuffle=False)"
   ]
  },
  {
   "attachments": {},
   "cell_type": "markdown",
   "metadata": {},
   "source": [
    "Defining the Neural Class"
   ]
  },
  {
   "cell_type": "code",
   "execution_count": null,
   "metadata": {},
   "outputs": [],
   "source": [
    "class Net(nn.Module):\n",
    "    def __init__(self, input_size, hidden_size, out_size):\n",
    "        super(Net, self).__init__()\n",
    "        # define the layers\n",
    "        self.fc1 = nn.Linear(input_size, hidden_size)       # 1st layer\n",
    "        self.relu = nn.ReLU()                               # 1st layer activation by ReLU\n",
    "        self.fc2 = nn.Linear(hidden_size, hidden_size)      # 2nd layer\n",
    "        self.fc3 = nn.Linear(hidden_size, out_size)         # 3rd layer\n",
    "\n",
    "    def forward(self, x):\n",
    "        # forward propogation\n",
    "        out = self.fc1(x)\n",
    "        out = self.relu(out)\n",
    "        out = self.fc2(out)\n",
    "        out = self.relu(out)\n",
    "        out = self.fc3(out)\n",
    "        return out"
   ]
  },
  {
   "attachments": {},
   "cell_type": "markdown",
   "metadata": {},
   "source": [
    "Create network class and network functions"
   ]
  },
  {
   "cell_type": "code",
   "execution_count": null,
   "metadata": {},
   "outputs": [],
   "source": [
    "# Create an object of the c;ass, which represents our Network\n",
    "net = Net(input_size, hidden_size, out_size)\n",
    "\n",
    "# Check if computer has CUDA\n",
    "CUDA = torch.cuda.is_available()\n",
    "if CUDA:\n",
    "    # If it has it, move the network to cuda\n",
    "    net = net.cuda()\n",
    "# Define Loss function\n",
    "# Cross Entropy Loss also comes along with Softmax. Therefore, no nee to specify Softmax separatly\n",
    "criterion = nn.CrossEntropyLoss()\n",
    "\n",
    "# Define Optimizer\n",
    "optimizer = torch.optim.Adam(net.parameters(), lr=learning_rate)"
   ]
  },
  {
   "attachments": {},
   "cell_type": "markdown",
   "metadata": {},
   "source": [
    "Training the Network"
   ]
  },
  {
   "cell_type": "code",
   "execution_count": null,
   "metadata": {},
   "outputs": [],
   "source": [
    "# Visualise the train loader\n",
    "for i, (images, labels) in enumerate(train_loader):\n",
    "    print(images.size())\n",
    "    images = images.view(-1, 784)       # reshape the tensor\n",
    "    print(images.size())"
   ]
  },
  {
   "cell_type": "code",
   "execution_count": null,
   "metadata": {},
   "outputs": [],
   "source": [
    "# Train the network\n",
    "correct_train = 0\n",
    "total_train = 0\n",
    "for epoch in range(epochs):\n",
    "    for i, (images, labels) in enumerate(train_loader):     # iteration loop that takes a batch of 100 eveytime\n",
    "        # Flatter img from size (100,1,28,28) to (100,784) and wrap it in a variable\n",
    "        # (batch size, grayscale, rows, cols)\n",
    "        images = Variable(images.view(-1, 28*28))\n",
    "        labels = Variable(labels)\n",
    "        if CUDA:\n",
    "            images = images.cuda()\n",
    "            labels = labels.cuda()\n",
    "\n",
    "        # clear gradient\n",
    "        optimizer.zero_grad()\n",
    "        outputs = net(images)       # Forward pass the batch of 100 imgs\n",
    "        _, predicted = torch.max(outputs.data, 1)   # 1st argument: max amount & second argument: index location of each max value\n",
    "        # _, to igore the first argument ie, outputs.data and return only the second argument as in the index\n",
    "        total_train += labels.size(0)\n",
    "        if CUDA:\n",
    "            correct_train += (predicted.cpu() == labels.cpu()).sum()\n",
    "        else:\n",
    "            correct_train += (predicted == labels).sum()\n",
    "\n",
    "        \n",
    "        loss = criterion(outputs, labels)       # loss\n",
    "        loss.backward()                         # back prop\n",
    "        optimizer.step()                        # update weights\n",
    "\n",
    "        if (i+1) % 100 == 0:\n",
    "            print('Epoch [{}/{}], Iteration [{}/{}], Training Loss: {}, Training Accuracy: {}%'.format(epoch+1, epochs, i+1, len(train_dataset)//batch_size, loss.data, (100*correct_train/total_train)))\n",
    "\n",
    "print(\"DONE TRAINING\")\n"
   ]
  },
  {
   "attachments": {},
   "cell_type": "markdown",
   "metadata": {},
   "source": [
    "Testing the Network"
   ]
  },
  {
   "cell_type": "code",
   "execution_count": null,
   "metadata": {},
   "outputs": [],
   "source": [
    "# In testing, no loss or weight calculation and no updation of weights\n",
    "correct = 0\n",
    "total = 0\n",
    "# no epoch, iterating through all the test images\n",
    "for images, labels in train_loader:\n",
    "    images = Variable(images.view(-1, 28*28))\n",
    "    if CUDA:\n",
    "        images = images.cuda()\n",
    "    # For each input, output will have 10 elements\n",
    "    outputs = net(images)\n",
    "    _, predicted = torch.max(outputs.data, 1)\n",
    "    total += labels.size(0)         # increment the total count\n",
    "    \n",
    "    if CUDA:\n",
    "        correct += (predicted.cpu() == labels.cpu()).sum()\n",
    "    else:\n",
    "        correct += (predicted == labels).sum()\n",
    "\n",
    "print('Final Test Accuracy: %d %%' % (100 * correct / total))\n",
    "        "
   ]
  }
 ],
 "metadata": {
  "kernelspec": {
   "display_name": "Python 3",
   "language": "python",
   "name": "python3"
  },
  "language_info": {
   "codemirror_mode": {
    "name": "ipython",
    "version": 3
   },
   "file_extension": ".py",
   "mimetype": "text/x-python",
   "name": "python",
   "nbconvert_exporter": "python",
   "pygments_lexer": "ipython3",
   "version": "3.10.6"
  },
  "orig_nbformat": 4
 },
 "nbformat": 4,
 "nbformat_minor": 2
}
